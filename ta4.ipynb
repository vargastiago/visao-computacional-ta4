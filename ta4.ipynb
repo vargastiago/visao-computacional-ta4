{
 "cells": [
  {
   "cell_type": "markdown",
   "metadata": {
    "id": "vAk0BKNi2HmW"
   },
   "source": [
    "### Download do dataset"
   ]
  },
  {
   "cell_type": "code",
   "execution_count": null,
   "metadata": {
    "id": "cd3mMZcoWQrB",
    "tags": []
   },
   "outputs": [],
   "source": [
    "!wget https://archive.ics.uci.edu/ml/machine-learning-databases/iris/iris.data"
   ]
  },
  {
   "cell_type": "markdown",
   "metadata": {
    "id": "zMjUnW8t1gpT"
   },
   "source": [
    "### Importação das Bibliotecas"
   ]
  },
  {
   "cell_type": "code",
   "execution_count": null,
   "metadata": {
    "id": "CLiX-BjUXiV9",
    "tags": []
   },
   "outputs": [],
   "source": [
    "import pandas as pd\n",
    "import matplotlib.pyplot as plt\n",
    "import seaborn as sns\n",
    "from sklearn.preprocessing import StandardScaler\n",
    "from sklearn.decomposition import PCA\n",
    "from sklearn.model_selection import train_test_split\n",
    "from sklearn.neighbors import KNeighborsClassifier\n",
    "from sklearn.metrics import confusion_matrix\n",
    "from sklearn.metrics import classification_report"
   ]
  },
  {
   "cell_type": "markdown",
   "metadata": {
    "id": "LH6W2Ni72cYl"
   },
   "source": [
    "### Leitura do database"
   ]
  },
  {
   "cell_type": "code",
   "execution_count": null,
   "metadata": {
    "id": "1Lf7vsttXfnN",
    "tags": []
   },
   "outputs": [],
   "source": [
    "names = ['sepal_length', 'sepal_width', 'petal_length', 'petal_width', 'class']\n",
    "\n",
    "iris = pd.read_csv(\"iris.data\", names=names)"
   ]
  },
  {
   "cell_type": "markdown",
   "metadata": {
    "id": "OvPmvt9w2uRA"
   },
   "source": [
    "### Média, desvio e moda de cada variável (geral)"
   ]
  },
  {
   "cell_type": "code",
   "execution_count": null,
   "metadata": {
    "colab": {
     "base_uri": "https://localhost:8080/"
    },
    "id": "NDoW6kvqZ_2x",
    "outputId": "4e80ab76-8493-4d97-d821-a861243ec7e5",
    "tags": []
   },
   "outputs": [],
   "source": [
    "lista = []\n",
    "\n",
    "caracteristicas = ['sepal_length', 'sepal_width', 'petal_length', 'petal_width']\n",
    "\n",
    "#calcula media, desvio e moda de cada variavel\n",
    "for caracteristica in caracteristicas:\n",
    "  df = iris[caracteristica]\n",
    "  df_media = df.mean()\n",
    "  df_desvio = df.std()\n",
    "  df_moda = df.mode()[0]\n",
    "  lista.append({\"caracteristica\": caracteristica, \"media\": df_media, \"desvio\": df_desvio, \"moda\": df_moda})\n",
    "\n",
    "lista"
   ]
  },
  {
   "cell_type": "markdown",
   "metadata": {
    "id": "nEKO8evy27y0"
   },
   "source": [
    "### Média, desvio e moda de cada variável (por categoria)"
   ]
  },
  {
   "cell_type": "code",
   "execution_count": null,
   "metadata": {
    "colab": {
     "base_uri": "https://localhost:8080/"
    },
    "id": "SU9G9X37N7Xi",
    "outputId": "274976bf-e7aa-4461-b330-153cc834567d",
    "tags": []
   },
   "outputs": [],
   "source": [
    "lista = []\n",
    "\n",
    "categorias = ['Iris-setosa', 'Iris-versicolor', 'Iris-virginica']\n",
    "\n",
    "#calcula media, desvio e moda de cada variavel para cada classe\n",
    "for categoria in categorias:\n",
    "  df = iris[iris['class'] == categoria]\n",
    "  for caracteristica in caracteristicas:\n",
    "    df2 = df[caracteristica]\n",
    "    df_media = df2.mean()\n",
    "    df_desvio = df2.std()\n",
    "    df_moda = df2.mode()[0]\n",
    "    lista.append({\"classe\": categoria, \"caracteristica\": caracteristica, \"media\": df_media, \"desvio\": df_desvio, \"moda\": df_moda})\n",
    "\n",
    "lista"
   ]
  },
  {
   "cell_type": "markdown",
   "metadata": {
    "id": "igdd3UlG3Ig9"
   },
   "source": [
    "### Frêquencias"
   ]
  },
  {
   "cell_type": "code",
   "execution_count": null,
   "metadata": {
    "colab": {
     "base_uri": "https://localhost:8080/"
    },
    "id": "H82LIwMZfTnK",
    "outputId": "e29ce5b6-f843-420d-9f68-43c3b725522a",
    "tags": []
   },
   "outputs": [],
   "source": [
    "num_registros = iris.shape[0]\n",
    "\n",
    "frequencias_abs = iris['class'].value_counts()\n",
    "frequencias_rel = frequencias_abs / num_registros\n",
    "\n",
    "print(f\"Total:{num_registros}\")\n",
    "print(\"Freq Abs:\\n\" + frequencias_abs.to_string())\n",
    "print(\"Freq Rel:\\n\" + frequencias_rel.to_string(header=False))"
   ]
  },
  {
   "cell_type": "markdown",
   "metadata": {
    "id": "iZKo8uOy3xxP"
   },
   "source": [
    "### Relação entre comprimento e largura da sépala para cada categoria"
   ]
  },
  {
   "cell_type": "code",
   "execution_count": null,
   "metadata": {
    "colab": {
     "base_uri": "https://localhost:8080/",
     "height": 411
    },
    "id": "p6WsWABHg72D",
    "outputId": "a5642908-be95-4d89-f957-0012cbb07d45",
    "tags": []
   },
   "outputs": [],
   "source": [
    "# Cria subplots de 1 por 3\n",
    "fig, axs = plt.subplots(1, 3, figsize=(12,4))\n",
    "\n",
    "# Plota gráfico para Iris-setosa\n",
    "setosa = iris[iris[\"class\"] == \"Iris-setosa\"]\n",
    "axs[0].scatter(setosa[\"sepal_length\"], setosa[\"sepal_width\"])\n",
    "axs[0].set_xlabel(\"Comprimento da sépala\")\n",
    "axs[0].set_ylabel(\"Largura da sépala\")\n",
    "axs[0].set_title(\"Iris-setosa\")\n",
    "\n",
    "# Plota gráfico para Iris-versicolor\n",
    "versicolor = iris[iris[\"class\"] == \"Iris-versicolor\"]\n",
    "axs[1].scatter(versicolor[\"sepal_length\"], versicolor[\"sepal_width\"])\n",
    "axs[1].set_xlabel(\"Comprimento da sépala\")\n",
    "axs[1].set_ylabel(\"Largura da sépala\")\n",
    "axs[1].set_title(\"Iris-versicolor\")\n",
    "\n",
    "# Plota gráfico para Iris-virginica\n",
    "virginica = iris[iris[\"class\"] == \"Iris-virginica\"]\n",
    "axs[2].scatter(virginica[\"sepal_length\"], virginica[\"sepal_width\"])\n",
    "axs[2].set_xlabel(\"Comprimento da sépala\")\n",
    "axs[2].set_ylabel(\"Largura da sépala\")\n",
    "axs[2].set_title(\"Iris-virginica\")\n",
    "\n",
    "plt.show()"
   ]
  },
  {
   "cell_type": "markdown",
   "metadata": {
    "id": "4-obfAX-37bm"
   },
   "source": [
    "### Relação entre comprimento e largura da pétala para cada categoria"
   ]
  },
  {
   "cell_type": "code",
   "execution_count": null,
   "metadata": {
    "colab": {
     "base_uri": "https://localhost:8080/",
     "height": 411
    },
    "id": "vqrATQBUhtkW",
    "outputId": "2b492bee-c352-4174-a68c-44a31a393837",
    "tags": []
   },
   "outputs": [],
   "source": [
    "# Cria subplots de 1 por 3\n",
    "fig, axs = plt.subplots(1, 3, figsize=(12,4))\n",
    "\n",
    "# Plota gráfico para Iris-setosa\n",
    "setosa = iris[iris[\"class\"] == \"Iris-setosa\"]\n",
    "axs[0].scatter(setosa[\"petal_length\"], setosa[\"petal_width\"])\n",
    "axs[0].set_xlabel(\"Comprimento da pétala\")\n",
    "axs[0].set_ylabel(\"Largura da pétala\")\n",
    "axs[0].set_title(\"Iris-setosa\")\n",
    "\n",
    "# Plota gráfico para Iris-versicolor\n",
    "versicolor = iris[iris[\"class\"] == \"Iris-versicolor\"]\n",
    "axs[1].scatter(versicolor[\"petal_length\"], versicolor[\"petal_width\"])\n",
    "axs[1].set_xlabel(\"Comprimento da pétala\")\n",
    "axs[1].set_ylabel(\"Largura da pétala\")\n",
    "axs[1].set_title(\"Iris-versicolor\")\n",
    "\n",
    "# Plota gráfico para Iris-virginica\n",
    "virginica = iris[iris[\"class\"] == \"Iris-virginica\"]\n",
    "axs[2].scatter(virginica[\"petal_length\"], virginica[\"petal_width\"])\n",
    "axs[2].set_xlabel(\"Comprimento da pétala\")\n",
    "axs[2].set_ylabel(\"Largura da pétala\")\n",
    "axs[2].set_title(\"Iris-virginica\")\n",
    "\n",
    "plt.show()"
   ]
  },
  {
   "cell_type": "markdown",
   "metadata": {
    "id": "dg7SWISK4ISZ"
   },
   "source": [
    "### Distribuição das categorias nas 4 dimensões (comprimento e largura da sépala e pétala)"
   ]
  },
  {
   "cell_type": "code",
   "execution_count": null,
   "metadata": {
    "colab": {
     "base_uri": "https://localhost:8080/",
     "height": 1000
    },
    "id": "T-XYDQWYiNHe",
    "outputId": "0f6dfe51-4bb0-4d6c-86e1-785a199d0570",
    "tags": []
   },
   "outputs": [],
   "source": [
    "# seleciona apenas as colunas de interesse\n",
    "df = iris[['class', 'sepal_length', 'sepal_width', 'petal_length', 'petal_width']]\n",
    "\n",
    "# cria um loop para gerar o gráfico de densidade para cada característica\n",
    "for col in df.columns[1:]:\n",
    "    plt.figure(figsize=(8,5))\n",
    "    sns.kdeplot(data=df, x=col, hue='class', common_norm=False, palette='bright')\n",
    "    plt.title(f'Distribuição das classes para {col}')\n",
    "    plt.show()"
   ]
  },
  {
   "cell_type": "markdown",
   "metadata": {
    "id": "VIvTLxSh4ZVs"
   },
   "source": [
    "### Principal Component Analysis (PCA)"
   ]
  },
  {
   "cell_type": "code",
   "execution_count": null,
   "metadata": {
    "colab": {
     "base_uri": "https://localhost:8080/",
     "height": 449
    },
    "id": "i_E10Eyrphbr",
    "outputId": "45e12897-d723-40ae-8626-94c07c9663eb",
    "tags": []
   },
   "outputs": [],
   "source": [
    "# Normalização dos dados\n",
    "scaler = StandardScaler()\n",
    "X = scaler.fit_transform(iris.drop('class', axis=1))\n",
    "\n",
    "# Cálculo dos componentes principais\n",
    "pca = PCA(n_components=2)\n",
    "X_pca = pca.fit_transform(X)\n",
    "\n",
    "# Plota dos dados\n",
    "plt.scatter(X_pca[:, 0], X_pca[:, 1], c=iris['class'].astype('category').cat.codes)\n",
    "plt.xlabel('Primeiro componente principal')\n",
    "plt.ylabel('Segundo componente principal')\n",
    "plt.show()"
   ]
  },
  {
   "cell_type": "markdown",
   "metadata": {
    "id": "Ll_8g-XK4fLx"
   },
   "source": [
    "### K-NN"
   ]
  },
  {
   "cell_type": "code",
   "execution_count": null,
   "metadata": {
    "colab": {
     "base_uri": "https://localhost:8080/"
    },
    "id": "VrU0U3LNqqix",
    "outputId": "71d2eb56-fc98-4cda-b45e-c96700582f47",
    "tags": []
   },
   "outputs": [],
   "source": [
    "# Separa os dados em X (caracteristicas) e y (classe)\n",
    "X = iris.drop('class', axis=1)\n",
    "y = iris['class']\n",
    "\n",
    "# Divide os dados em treinamento (80%) e teste (20%)\n",
    "X_train, X_test, y_train, y_test = train_test_split(X, y, test_size=0.2, random_state=None)\n",
    "\n",
    "# Cria um kNN\n",
    "knn = KNeighborsClassifier(n_neighbors=3, metric='euclidean')\n",
    "knn.fit(X_train, y_train)\n",
    "\n",
    "# Predicao do classificador\n",
    "y_pred = knn.predict(X_test)\n",
    "\n",
    "# Mostra o resultado do classificador na base de teste\n",
    "acc = knn.score(X_test, y_test)\n",
    "print(\"Acurácia do modelo: {:.2f}%\".format(acc*100))\n",
    "\n",
    "# Cria a matriz de confusao\n",
    "cm = confusion_matrix(y_test, y_pred)\n",
    "print (cm)\n",
    "print(classification_report(y_test, y_pred))"
   ]
  }
 ],
 "metadata": {
  "colab": {
   "provenance": []
  },
  "kernelspec": {
   "display_name": "Python 3 (ipykernel)",
   "language": "python",
   "name": "python3"
  },
  "language_info": {
   "codemirror_mode": {
    "name": "ipython",
    "version": 3
   },
   "file_extension": ".py",
   "mimetype": "text/x-python",
   "name": "python",
   "nbconvert_exporter": "python",
   "pygments_lexer": "ipython3",
   "version": "3.11.3"
  }
 },
 "nbformat": 4,
 "nbformat_minor": 4
}
